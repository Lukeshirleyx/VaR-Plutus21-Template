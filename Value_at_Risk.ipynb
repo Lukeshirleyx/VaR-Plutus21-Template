{
 "cells": [
  {
   "cell_type": "code",
   "execution_count": 3,
   "metadata": {},
   "outputs": [
    {
     "name": "stdout",
     "output_type": "stream",
     "text": "99.99% confident actual loss won't exceed: $-8462.88\n99.00% confident actual loss won't exceed: $-3404.09\n95.00% confident actual loss won't exceed: $-1967.09\nLosses expected to exceed $-1967.09 on 80 out of 1617 days\n"
    },
    {
     "data": {
      "image/png": "[encoded data removed]",
      "text/plain": "<Figure size 432x288 with 1 Axes>"
     },
     "metadata": {
      "needs_background": "light"
     },
     "output_type": "display_data"
    }
   ],
   "source": [
    "#Data manipulation\n",
    "import numpy as np\n",
    "import pandas as pd\n",
    "\n",
    "#Plotting\n",
    "import matplotlib.pyplot as plt\n",
    "\n",
    "#Data fetching\n",
    "import pandas_datareader.data as data\n",
    "import datetime\n",
    "\n",
    "#Build Portfolio\n",
    "tickers = [\"BTC-USD\", \"ETH-USD\", \"DOGE-USD\"]\n",
    "exposures = [10000, 10000, 10000]\n",
    "\n",
    "#Set timeframe\n",
    "start = \"2015-08-07\"\n",
    "end = datetime.date.today()\n",
    "\n",
    "#Pull data from Yahoo! Finance\n",
    "df = data.DataReader(tickers, data_source=\"yahoo\", start=start, end=end)\n",
    "\n",
    "#Calculate daily returns\n",
    "percentage = df.pct_change()\n",
    "percentage = percentage[\"Close\"]\n",
    "\n",
    "#Calculate return exposures\n",
    "value_ptf = percentage * exposures\n",
    "\n",
    "#Remove missing values\n",
    "value_ptf.dropna()\n",
    "\n",
    "#Calculate portfolio return\n",
    "value_ptf['Value of Portfolio'] = value_ptf.sum(axis=1)\n",
    "ptf_percentage = value_ptf['Value of Portfolio']\n",
    "ptf_percentage = ptf_percentage.sort_values(axis=0, ascending=True)\n",
    "\n",
    "#Set Confidence Levels\n",
    "VaR1 =  np.percentile(ptf_percentage, .01)\n",
    "VaR2 =  np.percentile(ptf_percentage, 1.0)\n",
    "VaR3 =  np.percentile(ptf_percentage, 5.0)\n",
    "\n",
    "#Calculate Value at Risk for the Portfolio\n",
    "print (\"99.99% confident actual loss won't exceed: $\" + str(round(VaR1, 2)))\n",
    "print (\"99.00% confident actual loss won't exceed: $\" + str(round(VaR2, 2)))\n",
    "print (\"95.00% confident actual loss won't exceed: $\" + str(round(VaR3, 2))) \n",
    "print (\"Losses expected to exceed $\" + \"{0:.2f}\".format(VaR3) + \" on \" + str(int(.05*len(ptf_percentage))) + \" out of \" + str(len(ptf_percentage)) + \" days\")\n",
    "percentage = percentage[1:]\n",
    "\n",
    "#Plot histogram\n",
    "mean = np.mean(ptf_percentage)\n",
    "std_dev = np.std(ptf_percentage)\n",
    "ptf_percentage.hist(bins=50)\n",
    "x = np.linspace(mean - 3*std_dev, mean + 3*std_dev, 100)\n",
    "plt.xlabel('Nominal Returns')\n",
    "plt.ylabel('Frequency')\n",
    "plt.show()\n"
   ]
  },
  {
   "cell_type": "code",
   "execution_count": null,
   "metadata": {},
   "outputs": [],
   "source": []
  }
 ],
 "metadata": {
  "kernelspec": {
   "display_name": "Python 3",
   "language": "python",
   "name": "python3"
  }
 },
 "nbformat": 4,
 "nbformat_minor": 2
}