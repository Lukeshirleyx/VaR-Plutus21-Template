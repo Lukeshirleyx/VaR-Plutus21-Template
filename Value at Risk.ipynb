{
 "cells": [
  {
   "cell_type": "code",
   "execution_count": 70,
   "metadata": {},
   "outputs": [
    {
     "name": "stdout",
     "output_type": "stream",
     "text": [
      "99.99% Actual loss won't exceedd: -8960.25\n",
      "99% Actual loss won't exceed: -4386.2\n",
      "95% Actual loss won't exceed: -2406.26\n",
      "Losses expected to exceed -2406.26 62.95 out of 1259 days\n"
     ]
    }
   ],
   "source": [
    "#Data manipulation\n",
    "import numpy as np\n",
    "import pandas as pd\n",
    "\n",
    "#Plotting\n",
    "import matplotlib.pyplot as plt\n",
    "import seaborn\n",
    "from tabulate import tabulate\n",
    "\n",
    "#Data fetching\n",
    "import pandas_datareader.data as data\n",
    "\n",
    "#Print tabular data\n",
    "#Calculate daily returns\n",
    "tickers = [\"GOOG\", \"MSFT\", \"AAPL\"]\n",
    "exposures = [1200, 10000, 90000]\n",
    "\n",
    "\n",
    "df = data.DataReader(tickers, data_source=\"yahoo\")\n",
    "percentage = df.pct_change()\n",
    "percentage = percentage[\"Close\"]\n",
    "\n",
    "value_ptf = percentage * exposures\n",
    "\n",
    "value_ptf.dropna()\n",
    "\n",
    "value_ptf['Value of Portfolio'] = value_ptf.sum(axis=1)\n",
    "value_ptf['Value of Portfolio']\n",
    "\n",
    "ptf_percentage = value_ptf['Value of Portfolio']\n",
    "ptf_percentage = ptf_percentage.sort_values(axis=0, ascending=True)\n",
    "\n",
    "VaR =  np.percentile(ptf_percentage, .01)\n",
    "VaR1 =  np.percentile(ptf_percentage, 1)\n",
    "VaR2 =  np.percentile(ptf_percentage, 5)\n",
    "\n",
    "print (\"99.99% Actual loss won't exceedd: \" + str(round(VaR, 2)))\n",
    "print (\"99% Actual loss won't exceed: \" + str(round(VaR1, 2)))\n",
    "print (\"95% Actual loss won't exceed: \" + str(round(VaR2, 2))) \n",
    "print (\"Losses expected to exceed \" + \"{0:.2f}\".format(VaR2) + \" \" + str(.05*len(ptf_percentage)) + \" out of \" + str(len(ptf_percentage)) + \" days\")\n",
    "percentage = percentage[1:]\n",
    "\n"
   ]
  },
  {
   "cell_type": "code",
   "execution_count": null,
   "metadata": {},
   "outputs": [],
   "source": []
  }
 ],
 "metadata": {
  "kernelspec": {
   "display_name": "Python 3",
   "language": "python",
   "name": "python3"
  }
 },
 "nbformat": 4,
 "nbformat_minor": 2
}
